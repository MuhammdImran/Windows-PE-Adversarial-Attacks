{
 "cells": [
  {
   "cell_type": "code",
   "execution_count": 1,
   "id": "9f40eae2",
   "metadata": {},
   "outputs": [],
   "source": [
    "import os\n",
    "import shutil\n",
    "import configparser\n"
   ]
  },
  {
   "cell_type": "code",
   "execution_count": 2,
   "id": "250585a1",
   "metadata": {},
   "outputs": [],
   "source": [
    "config = configparser.ConfigParser()\n",
    "\n",
    "# Read the configuration file\n",
    "config.read('config.ini')\n",
    "cm = 'corresponding_malware'\n",
    "corres_type = config.getint(cm, 'corr_type')\n",
    "full_dos = config.get(cm, 'f_dos')\n",
    "extend_dos = config.get(cm, 'ex')\n",
    "content_shift = config.get(cm, 'c_shift')\n",
    "fgsm = config.get(cm, 'fgsm')\n",
    "gamma = config.get(cm, 'gamma')\n",
    "p_malware = config.get(cm, 'p_malware')\n",
    "#output corresponding folder\n",
    "c_f_dos = config.get(cm, 'c_f_dos')\n",
    "c_extend = config.get(cm, 'c_extend')\n",
    "c_cont = config.get(cm, 'c_cont')\n",
    "c_fgs = config.get(cm, 'c_fgs')\n",
    "c_gam = config.get(cm, 'c_gam')\n",
    "\n",
    "if os.path.exists(c_f_dos):\n",
    "    shutil.rmtree(c_f_dos)\n",
    "os.makedirs(c_f_dos)\n",
    "if os.path.exists(c_extend):\n",
    "    shutil.rmtree(c_extend)\n",
    "os.makedirs(c_extend)\n",
    "if os.path.exists(c_cont):\n",
    "    shutil.rmtree(c_cont)\n",
    "os.makedirs(c_cont)\n",
    "if os.path.exists(c_fgs):\n",
    "    shutil.rmtree(c_fgs)\n",
    "os.makedirs(c_fgs)\n",
    "if os.path.exists(c_gam):\n",
    "    shutil.rmtree(c_gam)\n",
    "os.makedirs(c_gam)"
   ]
  },
  {
   "cell_type": "code",
   "execution_count": 4,
   "id": "23eec380",
   "metadata": {},
   "outputs": [],
   "source": [
    "def copy_files(source, destination, files):\n",
    "    # Get the list of files in the adversarial folder\n",
    "    adversarial_files = os.listdir(files)\n",
    "    # Iterate through the files in the adversarial folder\n",
    "    for file_name in adversarial_files:\n",
    "        source_path = os.path.join(source, file_name)\n",
    "        destination_path = os.path.join(destination, file_name)\n",
    "        shutil.copy(source_path, destination_path)"
   ]
  },
  {
   "cell_type": "code",
   "execution_count": 5,
   "id": "fbd70554",
   "metadata": {},
   "outputs": [],
   "source": [
    "if corres_type == 1:\n",
    "    copy_files(p_malware, c_f_dos, full_dos)\n",
    "if corres_type == 2:\n",
    "    copy_files(p_malware, c_extend, extend_dos)\n",
    "if corres_type == 3:\n",
    "    copy_files(p_malware, c_cont, content_shift)\n",
    "if corres_type == 4:\n",
    "    copy_files(p_malware, c_fgs, fgsm )\n",
    "if corres_type == 5:\n",
    "    copy_files(p_malware, c_gam, gamma)"
   ]
  },
  {
   "cell_type": "code",
   "execution_count": null,
   "id": "eedc8d30",
   "metadata": {},
   "outputs": [],
   "source": []
  }
 ],
 "metadata": {
  "kernelspec": {
   "display_name": "Python 3",
   "language": "python",
   "name": "python3"
  },
  "language_info": {
   "codemirror_mode": {
    "name": "ipython",
    "version": 3
   },
   "file_extension": ".py",
   "mimetype": "text/x-python",
   "name": "python",
   "nbconvert_exporter": "python",
   "pygments_lexer": "ipython3",
   "version": "3.6.13"
  }
 },
 "nbformat": 4,
 "nbformat_minor": 5
}
