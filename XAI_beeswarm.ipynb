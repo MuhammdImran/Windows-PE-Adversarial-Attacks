{
 "cells": [
  {
   "cell_type": "code",
   "execution_count": null,
   "id": "e5a753fa",
   "metadata": {},
   "outputs": [],
   "source": [
    "#imported libraries\n",
    "import pandas as pd\n",
    "import shap\n",
    "from keras.models import load_model\n",
    "import joblib\n",
    "import configparser\n",
    "import numpy as np\n",
    "import matplotlib.pyplot as plt\n",
    "import os\n",
    "import shutil"
   ]
  },
  {
   "cell_type": "code",
   "execution_count": null,
   "id": "8e9006f5",
   "metadata": {},
   "outputs": [],
   "source": [
    "config = configparser.ConfigParser()\n",
    "\n",
    "# Read the configuration file\n",
    "config.read('config.ini')\n",
    "xai = 'XAI_beeswarm'\n",
    "lgb_model = config.get(xai, 'lgb_model')\n",
    "full_dos = config.get(xai,'full_dos_f')\n",
    "extend_dos = config.get(xai,'extend_dos_f')\n",
    "content_shift = config.get(xai,'content_shift_f')\n",
    "fgs = config.get(xai,'fgsm_f')\n",
    "gamma = config.get(xai,'gamma_f')\n",
    "c_full_dos = config.get(xai,'c_full_dos_f')\n",
    "c_extend_dos = config.get(xai,'c_extend_dos_f')\n",
    "c_content_shift = config.get(xai,'c_content_shift_f')\n",
    "c_fgs = config.get(xai,'c_fgsm_f')\n",
    "c_gamma = config.get(xai,'c_gamma_f')\n",
    "\n",
    "output = config.get(xai, 'output')\n",
    "if os.path.exists(output):\n",
    "    shutil.rmtree(output)\n",
    "os.makedirs(output)"
   ]
  },
  {
   "cell_type": "code",
   "execution_count": null,
   "id": "89785a83",
   "metadata": {},
   "outputs": [],
   "source": [
    "def extract_dir_name(path):\n",
    "    path = path.rstrip('/')\n",
    "    plot_name = os.path.basename(path)\n",
    "    return plot_name\n",
    "def compute_shap(path):\n",
    "    plot_name = extract_dir_name(path)\n",
    "    X = pd.read_csv(path)\n",
    "    explainer = shap.TreeExplainer(model)\n",
    "    shap_values = explainer.shap_values(X)\n",
    "    positive_class_shap_values = shap_values[1]\n",
    "    feature_names = X.columns.tolist()\n",
    "    # Computed the mean SHAP values for each feature across all samples.\n",
    "    mean_shap_values = np.mean(positive_class_shap_values, axis=0)\n",
    "    # indices of the top 20 features based on the mean SHAP values.\n",
    "    top_20_features_indices = np.argsort(mean_shap_values)[-20:][::-1]\n",
    "    # Extracted names of the top 20 features.\n",
    "    top_20_feature_names = [feature_names[i] for i in top_20_features_indices]\n",
    "    # 4. Filter out the SHAP values for only the top 20 features.\n",
    "    top_20_shap_values = positive_class_shap_values[:, top_20_features_indices]\n",
    "    desired_width_px = 1000\n",
    "    desired_height_px = 800\n",
    "    # Set the DPI\n",
    "    dpi = 200  # Setting a DPI of 100 for example\n",
    "    # Convert the desired dimensions to inches\n",
    "    fig_width_in = desired_width_px / dpi\n",
    "    fig_height_in = desired_height_px / dpi\n",
    "    # Create a figure object with the desired size in inches\n",
    "    fig, ax = plt.subplots(figsize=(fig_width_in, fig_height_in), dpi=dpi)\n",
    "    # Create an Explanation for the top 20 features.\n",
    "    shap_values_top_20 = shap.Explanation(values=top_20_shap_values, data=X.iloc[:, top_20_features_indices].values, feature_names=top_20_feature_names)\n",
    "    # beeswarm plot for the top 20 features.\n",
    "    shap.plots.beeswarm(shap_values_top_20, max_display=20)\n",
    "    plot_path = os.path.join(output, f\"{plot_name}.png\")\n",
    "    fig.savefig(plot_path, bbox_inches='tight', facecolor='w', edgecolor='w', dpi=dpi)\n",
    "    \n",
    "    plt.close(fig)\n"
   ]
  },
  {
   "cell_type": "code",
   "execution_count": null,
   "id": "a2d673d4",
   "metadata": {},
   "outputs": [],
   "source": [
    "path_pairs = [c_full_dos, full_dos, c_extend_dos, extend_dos, c_content_shift, content_shift , c_fgs, fgs,c_gamma, gamma]\n",
    "model = joblib.load(lgb_model)\n",
    "for path in path_pairs:\n",
    "    compute_shap(path)"
   ]
  }
 ],
 "metadata": {
  "kernelspec": {
   "display_name": "Python 3",
   "language": "python",
   "name": "python3"
  },
  "language_info": {
   "codemirror_mode": {
    "name": "ipython",
    "version": 3
   },
   "file_extension": ".py",
   "mimetype": "text/x-python",
   "name": "python",
   "nbconvert_exporter": "python",
   "pygments_lexer": "ipython3",
   "version": "3.6.13"
  }
 },
 "nbformat": 4,
 "nbformat_minor": 5
}
