{
 "cells": [
  {
   "cell_type": "code",
   "execution_count": 1,
   "id": "67118999",
   "metadata": {},
   "outputs": [],
   "source": [
    "import secml_malware\n",
    "import magic\n",
    "from secml.array import CArray\n",
    "import shutil\n",
    "import torch\n",
    "import numpy as np\n",
    "import os\n",
    "import configparser\n",
    "from secml_malware.models.malconv import MalConv\n",
    "from secml_malware.models.c_classifier_end2end_malware import CClassifierEnd2EndMalware, End2EndModel\n",
    "\n",
    "net = MalConv()\n",
    "net = CClassifierEnd2EndMalware(net)\n",
    "net.load_pretrained_model()"
   ]
  },
  {
   "cell_type": "code",
   "execution_count": 2,
   "id": "5f352dd0",
   "metadata": {},
   "outputs": [],
   "source": [
    "config = configparser.ConfigParser()\n",
    "\n",
    "# Read the configuration file\n",
    "config.read('config.ini')\n",
    "pm = 'predicted_malware'\n",
    "malware_files = config.get(pm, 'malware_files')\n",
    "output = config.get(pm, 'pr_malware')\n",
    "if os.path.exists(output):\n",
    "    shutil.rmtree(output)\n",
    "os.makedirs(output, exist_ok=True)\n",
    "\n",
    "for i, f in enumerate(os.listdir(malware_files)):\n",
    "    path = os.path.join(malware_files, f)\n",
    "    with open(path, \"rb\") as file_handle:\n",
    "        code = file_handle.read()\n",
    "        \n",
    "    x = End2EndModel.bytes_to_numpy(\n",
    "        code, net.get_input_max_length(),256, False)\n",
    "    _, confidence = net.predict(CArray(x), True)\n",
    "    if confidence[0, 1].item() > 0.5:\n",
    "        destination_path = os.path.join(output, f)\n",
    "        shutil.copy(path, destination_path)\n",
    "        "
   ]
  }
 ],
 "metadata": {
  "kernelspec": {
   "display_name": "Python 3",
   "language": "python",
   "name": "python3"
  },
  "language_info": {
   "codemirror_mode": {
    "name": "ipython",
    "version": 3
   },
   "file_extension": ".py",
   "mimetype": "text/x-python",
   "name": "python",
   "nbconvert_exporter": "python",
   "pygments_lexer": "ipython3",
   "version": "3.6.13"
  }
 },
 "nbformat": 4,
 "nbformat_minor": 5
}
