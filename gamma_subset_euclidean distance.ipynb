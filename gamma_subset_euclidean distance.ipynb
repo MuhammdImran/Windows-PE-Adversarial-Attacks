{
 "cells": [
  {
   "cell_type": "code",
   "execution_count": null,
   "id": "1166e167",
   "metadata": {},
   "outputs": [],
   "source": [
    "#loaded important libraries\n",
    "import secml_malware\n",
    "import configparser\n",
    "import magic\n",
    "from secml.array import CArray\n",
    "import os\n",
    "import shutil\n",
    "from secml_malware.models.malconv import MalConv\n",
    "from secml_malware.models.c_classifier_end2end_malware import CClassifierEnd2EndMalware, End2EndModel\n",
    "\n",
    "net = MalConv()\n",
    "net = CClassifierEnd2EndMalware(net)\n",
    "net.load_pretrained_model()\n",
    "import pandas as pd\n",
    "from sklearn.preprocessing import MinMaxScaler\n",
    "import numpy as np\n",
    "import matplotlib.pyplot as plt\n",
    "from sklearn.metrics.pairwise import euclidean_distances\n",
    "from matplotlib import rcParams\n",
    "import sklearn"
   ]
  },
  {
   "cell_type": "code",
   "execution_count": null,
   "id": "13331cea",
   "metadata": {},
   "outputs": [],
   "source": [
    "config = configparser.ConfigParser()\n",
    "\n",
    "# Read the configuration file\n",
    "config.read('config.ini')\n",
    "sed = 'gamma_subset_euclidean_distance'\n",
    "output = config.get(sed, 'output')\n",
    "gamma = config.get(sed, 'gamma')\n",
    "gamma_subset_ad = config.get(sed, 'gamma_subset_ad')\n",
    "c_gamma = config.get(sed, 'c_gamma')\n",
    "c_gamma_subset = config.get(sed, 'c_gamma_subset')\n",
    "gamma_ad_csv = config.get(sed, 'gamma_ad_csv')\n",
    "gamma_subset_ad_csv = config.get(sed, 'gamma_subset_ad_csv')\n",
    "c_gamma_csv = config.get(sed, 'c_gamma_csv')\n",
    "c_gamma_subset_csv = config.get(sed, 'c_gamma_subset_csv')\n",
    "\n",
    "if os.path.exists(output):\n",
    "    shutil.rmtree(output)\n",
    "os.makedirs(output)"
   ]
  },
  {
   "cell_type": "code",
   "execution_count": null,
   "id": "8f46eb62",
   "metadata": {},
   "outputs": [],
   "source": [
    "\n",
    "scaler = MinMaxScaler(feature_range=(0, 1))"
   ]
  },
  {
   "cell_type": "code",
   "execution_count": null,
   "id": "4817afbe",
   "metadata": {},
   "outputs": [],
   "source": [
    "#loaded PE origional malicious and corresponding adversarial files and sorted \n",
    "malicious_files = os.listdir(c_gamma)\n",
    "adversarial_files = os.listdir(gamma)\n",
    "malicious_files.sort()\n",
    "adversarial_files.sort()\n",
    "raw_byte_distances_list = []\n",
    "files_name_list = []\n",
    "#Read files, insert or drop values to follow the file length rule and computed euclidean distance \n",
    "for malicious_file, adversarial_file in zip(malicious_files, adversarial_files):\n",
    "    malicious_file_path = os.path.join(c_gamma, malicious_file)\n",
    "    adversarial_file_path = os.path.join(gamma, adversarial_file)\n",
    "\n",
    "    with open( malicious_file_path, \"rb\") as file_handle:\n",
    "        malicious_file_code = file_handle.read()\n",
    "        \n",
    "    with open(adversarial_file_path, \"rb\") as file_handle:\n",
    "        adversarial_file_code = file_handle.read()  \n",
    "    \n",
    "    malicious_file_bytes = End2EndModel.bytes_to_numpy(malicious_file_code, net.get_input_max_length(),256, False)\n",
    "    malicious_file_bytes = malicious_file_bytes.reshape(-1, 1)\n",
    "    malicious_file_bytes = scaler.fit_transform(malicious_file_bytes)\n",
    "    adversarial_file_bytes = End2EndModel.bytes_to_numpy(adversarial_file_code, net.get_input_max_length(),256, False)\n",
    "    adversarial_file_bytes = adversarial_file_bytes.reshape(-1, 1)\n",
    "    adversarial_file_bytes = scaler.fit_transform(adversarial_file_bytes)\n",
    "    eclidean_distance = np.linalg.norm(malicious_file_bytes- adversarial_file_bytes)\n",
    "    dist = eclidean_distance/1048576\n",
    "    raw_byte_distances_list.append(dist)\n",
    "    files_name_list.append(malicious_file)\n",
    "    \n"
   ]
  },
  {
   "cell_type": "code",
   "execution_count": null,
   "id": "0adc0818",
   "metadata": {},
   "outputs": [],
   "source": [
    "#loaded subset PE origional malicious and corresponding adversarial files and sorted \n",
    "malicious_files = os.listdir(c_gamma_subset)\n",
    "adversarial_files = os.listdir(gamma_subset_ad)\n",
    "malicious_files.sort()\n",
    "adversarial_files.sort()\n",
    "subset_raw_byte_distances_list = []\n",
    "subset_files_name_list = []\n",
    "#Read files, insert or drop values to follow the file length rule and computed euclidean distance \n",
    "for malicious_file, adversarial_file in zip(malicious_files, adversarial_files):\n",
    "    malicious_file_path = os.path.join(c_gamma_subset, malicious_file)\n",
    "    adversarial_file_path = os.path.join(gamma_subset_ad, adversarial_file)\n",
    "\n",
    "    with open( malicious_file_path, \"rb\") as file_handle:\n",
    "        malicious_file_code = file_handle.read()\n",
    "        \n",
    "    with open(adversarial_file_path, \"rb\") as file_handle:\n",
    "        adversarial_file_code = file_handle.read()  \n",
    "    \n",
    "    malicious_file_bytes = End2EndModel.bytes_to_numpy(malicious_file_code, net.get_input_max_length(),256, False)\n",
    "    malicious_file_bytes = malicious_file_bytes.reshape(-1, 1)\n",
    "    malicious_file_bytes = scaler.fit_transform(malicious_file_bytes)\n",
    "    adversarial_file_bytes = End2EndModel.bytes_to_numpy(adversarial_file_code, net.get_input_max_length(),256, False)\n",
    "    adversarial_file_bytes = adversarial_file_bytes.reshape(-1, 1)\n",
    "    adversarial_file_bytes = scaler.fit_transform(adversarial_file_bytes)\n",
    "    eclidean_distance = np.linalg.norm(malicious_file_bytes- adversarial_file_bytes)\n",
    "    dist = eclidean_distance/1048576\n",
    "    subset_raw_byte_distances_list.append(dist)\n",
    "    subset_files_name_list.append(malicious_file)\n",
    "    \n"
   ]
  },
  {
   "cell_type": "code",
   "execution_count": null,
   "id": "077e377b",
   "metadata": {},
   "outputs": [],
   "source": [
    "mean_raw_byte_distance = np.mean(raw_byte_distances_list)\n",
    "subset_mean_raw_byte_distance = np.mean(subset_raw_byte_distances_list)"
   ]
  },
  {
   "cell_type": "code",
   "execution_count": null,
   "id": "d934fad2",
   "metadata": {},
   "outputs": [],
   "source": [
    "scaler = MinMaxScaler()"
   ]
  },
  {
   "cell_type": "code",
   "execution_count": null,
   "id": "de0fa802",
   "metadata": {},
   "outputs": [],
   "source": [
    "#Loaded csv files of features extracetd from Orginal malicious PE files and corresponding adversarial files \n",
    "malcious_sample = pd.read_csv(c_gamma_csv) \n",
    "adversarial_samples = pd.read_csv(gamma_ad_csv)\n",
    "concatenate = pd.concat([malcious_sample, adversarial_samples])\n",
    "concatenate_scaled = scaler.fit_transform(concatenate)\n",
    "#Seprate concatenated to back corresponding DataFrames \n",
    "scaled_df = pd.DataFrame(concatenate_scaled)\n",
    "malicious_scaled = scaled_df.iloc[:len(malcious_sample)].reset_index(drop=True)\n",
    "adversarial_scaled = scaled_df.iloc[len(malcious_sample):].reset_index(drop=True)\n",
    "#Compute euclidean distance between malicious files and corresponding adversarial files\n",
    "eucl_dist = euclidean_distances(malicious_scaled, adversarial_scaled)\n",
    "euclid_distan = eucl_dist/2381\n",
    "feature_distances_matrix = np.diag(euclid_distan)\n",
    "feature_distance_list = feature_distances_matrix.tolist()\n"
   ]
  },
  {
   "cell_type": "code",
   "execution_count": null,
   "id": "e5b3d2e2",
   "metadata": {},
   "outputs": [],
   "source": [
    "#Loaded csv files of features extracetd from Orginal malicious PE files and corresponding adversarial files \n",
    "malcious_sample = pd.read_csv(c_gamma_subset_csv) \n",
    "adversarial_samples = pd.read_csv(gamma_subset_ad_csv) \n",
    "concatenate = pd.concat([malcious_sample, adversarial_samples])\n",
    "concatenate_scaled = scaler.transform(concatenate)\n",
    "#Seprate concatenated to back corresponding DataFrames \n",
    "scaled_df = pd.DataFrame(concatenate_scaled)\n",
    "malicious_scaled = scaled_df.iloc[:len(malcious_sample)].reset_index(drop=True)\n",
    "adversarial_scaled = scaled_df.iloc[len(malcious_sample):].reset_index(drop=True)\n",
    "#Compute euclidean distance between malicious files and corresponding adversarial files\n",
    "eucl_dist = euclidean_distances(malicious_scaled, adversarial_scaled)\n",
    "euclid_distan = eucl_dist/2381\n",
    "feature_distances_matrix = np.diag(euclid_distan)\n",
    "subset_feature_distance_list = feature_distances_matrix.tolist()"
   ]
  },
  {
   "cell_type": "code",
   "execution_count": null,
   "id": "568a7a6c",
   "metadata": {},
   "outputs": [],
   "source": [
    "mean_feature_distance = np.mean(feature_distance_list)\n",
    "subset_mean_feature_distance = np.mean(subset_feature_distance_list)"
   ]
  },
  {
   "cell_type": "code",
   "execution_count": null,
   "id": "04849aa4",
   "metadata": {},
   "outputs": [],
   "source": [
    "# Create a DataFrame\n",
    "df = pd.DataFrame({\n",
    "    'File_Names': files_name_list,\n",
    "    'Raw_byte_Distances': raw_byte_distances_list,\n",
    "    'Feature_Distances': feature_distance_list\n",
    "})\n",
    "\n",
    "# Create a new DataFrame for the mean distances\n",
    "mean_df = pd.DataFrame({\n",
    "    'File_Names': ['Mean Values'],\n",
    "    'mean_Raw_byte_Distances': [mean_raw_byte_distance],\n",
    "    'mean_Feature_Distances': [mean_feature_distance]\n",
    "})\n",
    "\n",
    "# Concatenate the original DataFrame with the new DataFrame\n",
    "df = pd.concat([df, mean_df], ignore_index=True)\n",
    "\n",
    "# Save to a CSV file\n",
    "csv_file_path = os.path.join(output,'gamma_distances.csv')\n",
    "df.to_csv(csv_file_path, index=False)"
   ]
  },
  {
   "cell_type": "code",
   "execution_count": null,
   "id": "43230fbf",
   "metadata": {},
   "outputs": [],
   "source": [
    "# Create a DataFrame\n",
    "df = pd.DataFrame({\n",
    "    'File_Names': subset_files_name_list,\n",
    "    'Raw_byte_Distances': subset_raw_byte_distances_list,\n",
    "    'Feature_Distances': subset_feature_distance_list\n",
    "})\n",
    "\n",
    "# Create a new DataFrame for the mean distances\n",
    "mean_df = pd.DataFrame({\n",
    "    'File_Names': ['Mean Values'],\n",
    "    'mean_Raw_byte_Distances': [subset_mean_raw_byte_distance],\n",
    "    'mean_Feature_Distances': [subset_mean_feature_distance]\n",
    "})\n",
    "\n",
    "# Concatenate the original DataFrame with the new DataFrame\n",
    "df = pd.concat([df, mean_df], ignore_index=True)\n",
    "\n",
    "# Save to a CSV file\n",
    "csv_file_path = os.path.join(output, 'subset_gamma_distances.csv')\n",
    "df.to_csv(csv_file_path, index=False)"
   ]
  }
 ],
 "metadata": {
  "kernelspec": {
   "display_name": "Python 3",
   "language": "python",
   "name": "python3"
  },
  "language_info": {
   "codemirror_mode": {
    "name": "ipython",
    "version": 3
   },
   "file_extension": ".py",
   "mimetype": "text/x-python",
   "name": "python",
   "nbconvert_exporter": "python",
   "pygments_lexer": "ipython3",
   "version": "3.6.13"
  }
 },
 "nbformat": 4,
 "nbformat_minor": 5
}
